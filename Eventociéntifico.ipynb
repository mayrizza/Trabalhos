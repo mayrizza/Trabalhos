{
  "nbformat": 4,
  "nbformat_minor": 0,
  "metadata": {
    "colab": {
      "provenance": [],
      "authorship_tag": "ABX9TyPeX+O4YcCwqREH/kBKBA0l",
      "include_colab_link": true
    },
    "kernelspec": {
      "name": "python3",
      "display_name": "Python 3"
    },
    "language_info": {
      "name": "python"
    }
  },
  "cells": [
    {
      "cell_type": "markdown",
      "metadata": {
        "id": "view-in-github",
        "colab_type": "text"
      },
      "source": [
        "<a href=\"https://colab.research.google.com/github/mayrizza/Trabalhos/blob/main/Eventoci%C3%A9ntifico.ipynb\" target=\"_parent\"><img src=\"https://colab.research.google.com/assets/colab-badge.svg\" alt=\"Open In Colab\"/></a>"
      ]
    },
    {
      "cell_type": "code",
      "source": [
        "#Importe as bibliotecas necessárias\n",
        "import numpy as np\n",
        "#Dados dos participantes\n",
        "participantes = [\n",
        "    {\n",
        "        \"Nome\": \"Edward\",\n",
        "        \"Localização\": \"Espanha\",\n",
        "        \"Afiliação\": \"Universidade Complutensede Madrid\",\n",
        "        \"Interesses\": [\"Física\",\"Anatomia\"]\n",
        "    },\n",
        "    {\n",
        "        \"Nome\": \"Alice\",\n",
        "        \"Localização\": \"EUA\",\n",
        "        \"Afiliação\": \"Massachusetts Institute of Techonology\",\n",
        "        \"Interesses\": [\"Física\",\"Moda\"]\n",
        "    },\n",
        "    {\n",
        "        \"Nome\": \"Esther Yu\",\n",
        "        \"Localização\": \"China\",\n",
        "        \"Afiliação\": \"Fudan University\",\n",
        "        \"Interesses\": [\"Música\", \"Quimica\"]\n",
        "    }\n",
        "]\n",
        "#Usando sets para identificar diferentes regiões dos participantes\n",
        "regioes = set(participante[\"Localização\"] for participante in participantes)\n",
        "#Usando dicionários para categorizar afiliações\n",
        "afiliacoes = {}\n",
        "for participante in participantes:\n",
        "    afiliacao = participante[\"Afiliação\"]\n",
        "    if afiliacao not in afiliacoes:\n",
        "      afiliacoes[afiliacao] = []\n",
        "      afiliacoes[afiliacao].append(participante[\"Nome\"])\n",
        "#Usando NumPy para analisar áreas de interesse\n",
        "areas_de_interesse = np.array([interesse for participante in participantes for interesse in participante[\"Interesses\"] ])\n",
        "interesses_unicos, contagem = np.unique(areas_de_interesse, return_counts = True)\n",
        "area_mais_popular = interesses_unicos[np.argmax(contagem)]\n",
        "#Resultados\n",
        "print(\"Regiões dos participantes:\", regioes)\n",
        "print(\"Afiliações dos participantes:\")\n",
        "for afiliacao, nomes in afiliacoes.items():\n",
        "  print(f\"{afiliacao}: {','.join(nomes)}\")\n",
        "print(f\"Área de interesse mais popular:\",area_mais_popular)\n"
      ],
      "metadata": {
        "colab": {
          "base_uri": "https://localhost:8080/"
        },
        "outputId": "e30874ef-0392-4d8b-f8e9-68ede12d3088",
        "id": "9gY6kHg90PiE"
      },
      "execution_count": 37,
      "outputs": [
        {
          "output_type": "stream",
          "name": "stdout",
          "text": [
            "Regiões dos participantes: {'EUA', 'China', 'Espanha'}\n",
            "Afiliações dos participantes:\n",
            "Universidade Complutensede Madrid: Edward\n",
            "Massachusetts Institute of Techonology: Alice\n",
            "Fudan University: Esther Yu\n",
            "Área de interesse mais popular: Física\n"
          ]
        }
      ]
    }
  ]
}