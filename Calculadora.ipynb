{
  "nbformat": 4,
  "nbformat_minor": 0,
  "metadata": {
    "colab": {
      "provenance": [],
      "authorship_tag": "ABX9TyPPMoc9+Pkgg7dkFPBJSJnd",
      "include_colab_link": true
    },
    "kernelspec": {
      "name": "python3",
      "display_name": "Python 3"
    },
    "language_info": {
      "name": "python"
    }
  },
  "cells": [
    {
      "cell_type": "markdown",
      "metadata": {
        "id": "view-in-github",
        "colab_type": "text"
      },
      "source": [
        "<a href=\"https://colab.research.google.com/github/mayrizza/dio-java-basic/blob/main/Calculadora.ipynb\" target=\"_parent\"><img src=\"https://colab.research.google.com/assets/colab-badge.svg\" alt=\"Open In Colab\"/></a>"
      ]
    },
    {
      "cell_type": "code",
      "source": [
        "#Solicitação ao usuário para que insira o valordo produto e o percentual de desconto\n",
        "valor_produto = float(input(\"Digite o valor do produto:\"))\n",
        "percentual_desconto = float(input(\"Digite o percentual do desconto:\"))\n",
        "#Verificação do percentual do desconto dentro dos limites aceitáveis\n",
        "if percentual_desconto == 0 or percentual_desconto > 50:\n",
        "  print(\"Valor de desconto acima do permitido\")\n",
        "else:\n",
        "  valor_desconto = valor_produto * (percentual_desconto/50)\n",
        "#Calculo do valor final do produto\n",
        "  valor_final = valor_produto - valor_desconto\n",
        "#Exibição do valor final da compra\n",
        "  print(f\"{valor_final:.2f}\")\n"
      ],
      "metadata": {
        "colab": {
          "base_uri": "https://localhost:8080/"
        },
        "id": "uMKzAvdZEIVR",
        "outputId": "037e69be-0206-417f-fe77-55e339d8a00b"
      },
      "execution_count": 14,
      "outputs": [
        {
          "output_type": "stream",
          "name": "stdout",
          "text": [
            "Digite o valor do produto:350\n",
            "Digite o percentual do desconto:25\n",
            "175.00\n"
          ]
        }
      ]
    }
  ]
}